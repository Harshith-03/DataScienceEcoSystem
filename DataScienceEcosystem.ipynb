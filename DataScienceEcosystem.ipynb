{
 "cells": [
  {
   "cell_type": "markdown",
   "id": "a7e732c9-5031-42fc-ba09-eb4d7fbd7b09",
   "metadata": {},
   "source": [
    "# Data Science Tools and Ecosystem"
   ]
  },
  {
   "cell_type": "markdown",
   "id": "fb2e38ac-e5ed-43bb-977d-4930b61d2363",
   "metadata": {},
   "source": [
    "##### In this notebook, Data Science Tools and Ecosystem are summarized."
   ]
  },
  {
   "cell_type": "markdown",
   "id": "5757bddf-906d-40a9-9f6a-99507df1d4a9",
   "metadata": {},
   "source": [
    "**Objectives:**\n",
    "\n",
    "- List commonly used libraries used by Data Scientists\n",
    "- Some of the popular languages that Data Scientists use\n",
    "- Evaluating arithmetic expressions in Python\n"
   ]
  },
  {
   "cell_type": "markdown",
   "id": "304813b4-54ed-460e-9239-2d1208555f4d",
   "metadata": {},
   "source": [
    "#### Some of the popular languages that Data Scientists use are:\n",
    "\n",
    "1. Python\n",
    "2. R\n",
    "3. Kotlin\n",
    "4. Ruby"
   ]
  },
  {
   "cell_type": "markdown",
   "id": "f9f55837-9f2c-4a24-ac22-56cbc63a17eb",
   "metadata": {},
   "source": [
    "#### Some of the commonly used libraries used by Data Scientists include:\n",
    "\n",
    "1. ggplot\n",
    "2. stringr\n",
    "3. leaflet"
   ]
  },
  {
   "cell_type": "markdown",
   "id": "682c90b0-10f4-4bd5-a45c-47c9dcd656ca",
   "metadata": {},
   "source": [
    "| Data Science |\n",
    "| ------------ |\n",
    "| Jupyter Notebook |\n",
    "| Visual Studio Code |\n",
    "| RStudio |"
   ]
  },
  {
   "cell_type": "markdown",
   "id": "3c5ffe50-2687-476e-8afb-1dd052ca5261",
   "metadata": {},
   "source": [
    "### Below are a few examples of evaluating arithmetic expressions in Python"
   ]
  },
  {
   "cell_type": "code",
   "execution_count": 1,
   "id": "a2fbff04-99fd-4a19-94e9-108cebee93ca",
   "metadata": {},
   "outputs": [
    {
     "data": {
      "text/plain": [
       "17"
      ]
     },
     "execution_count": 1,
     "metadata": {},
     "output_type": "execute_result"
    }
   ],
   "source": [
    "#This a simple arithmetic expression to mutiply then add integers\n",
    "(3*4)+5"
   ]
  },
  {
   "cell_type": "code",
   "execution_count": 4,
   "id": "2174dc99-ed9f-46e0-8b61-b645d915ee46",
   "metadata": {},
   "outputs": [
    {
     "name": "stdout",
     "output_type": "stream",
     "text": [
      "200 mins =  3.3333333333333335 hrs\n"
     ]
    }
   ],
   "source": [
    "#This will convert 200 minutes to hours by diving by 60\n",
    "\n",
    "a=200/60\n",
    "print(\"200 mins = \",a,\"hrs\")"
   ]
  },
  {
   "cell_type": "code",
   "execution_count": null,
   "id": "36aabc02-5562-4a97-9d91-b7c684e7cee5",
   "metadata": {},
   "outputs": [],
   "source": []
  }
 ],
 "metadata": {
  "kernelspec": {
   "display_name": "Python 3 (ipykernel)",
   "language": "python",
   "name": "python3"
  },
  "language_info": {
   "codemirror_mode": {
    "name": "ipython",
    "version": 3
   },
   "file_extension": ".py",
   "mimetype": "text/x-python",
   "name": "python",
   "nbconvert_exporter": "python",
   "pygments_lexer": "ipython3",
   "version": "3.11.7"
  }
 },
 "nbformat": 4,
 "nbformat_minor": 5
}
